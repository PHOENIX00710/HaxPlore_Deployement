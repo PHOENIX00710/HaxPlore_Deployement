{
 "cells": [
  {
   "cell_type": "markdown",
   "metadata": {},
   "source": [
    "## Custom Model"
   ]
  },
  {
   "cell_type": "markdown",
   "metadata": {},
   "source": [
    "### Initialization"
   ]
  },
  {
   "cell_type": "code",
   "execution_count": null,
   "metadata": {},
   "outputs": [],
   "source": [
    "import json\n",
    "import pandas as pd"
   ]
  },
  {
   "cell_type": "markdown",
   "metadata": {},
   "source": [
    "### Import JSON "
   ]
  },
  {
   "cell_type": "code",
   "execution_count": null,
   "metadata": {},
   "outputs": [],
   "source": [
    "df = pd.read_json('intents.json')\n",
    "df['text'] = df['intents'].apply(lambda x: x['dialogue'])\n",
    "df['intent'] = df['intents'].apply(lambda x: x['intent'])\n",
    "df.drop('intents', axis=1, inplace=True)\n",
    "df.head()\n",
    "\n",
    "f = open('intents.csv', 'w')\n",
    "df['text'].to_csv(f, index=False)"
   ]
  },
  {
   "cell_type": "markdown",
   "metadata": {},
   "source": [
    "### Drop Duplicates"
   ]
  },
  {
   "cell_type": "code",
   "execution_count": null,
   "metadata": {},
   "outputs": [],
   "source": [
    "df.drop_duplicates(subset='text', inplace=True)"
   ]
  },
  {
   "cell_type": "markdown",
   "metadata": {},
   "source": [
    "### Value Counts"
   ]
  },
  {
   "cell_type": "code",
   "execution_count": null,
   "metadata": {},
   "outputs": [],
   "source": [
    "df['intent'].value_counts()"
   ]
  },
  {
   "cell_type": "markdown",
   "metadata": {},
   "source": [
    "### Embeddings\n"
   ]
  },
  {
   "cell_type": "code",
   "execution_count": null,
   "metadata": {},
   "outputs": [],
   "source": [
    "from transformers import BertTokenizer,TFBertModel\n",
    "tokenizer = BertTokenizer.from_pretrained('bert-base-uncased')\n",
    "\n",
    "model = TFBertModel.from_pretrained('bert-base-uncased')\n",
    "df['tokenized'] = df['text'].apply(lambda x: tokenizer.encode(x, add_special_tokens=True, return_tensors='tf'))\n",
    "df['embeddings'] = [model(token).pooler_output for token in df['tokenized']]"
   ]
  },
  {
   "cell_type": "code",
   "execution_count": null,
   "metadata": {},
   "outputs": [],
   "source": [
    "correspondence = {'History':0,'Book':1,'Cancel':2,'Location':3,'About':4,'Availability':5}\n",
    "reversed_correspondence = {v:k for k,v in correspondence.items()}\n",
    "from sklearn.model_selection import train_test_split\n",
    "from sklearn.preprocessing import LabelEncoder\n",
    "import numpy as np\n",
    "df['intent'] = df['intent'].replace(correspondence, inplace=False)\n",
    "X = df['embeddings'].values\n",
    "y = df['intent'].values\n",
    "X_train, X_test, y_train, y_test = train_test_split(X, y, test_size=0.2, random_state=42)\n",
    "X_train = np.concatenate([tensor.numpy() for tensor in X_train])\n",
    "X_test = np.concatenate([tensor.numpy() for tensor in X_test])"
   ]
  },
  {
   "cell_type": "code",
   "execution_count": null,
   "metadata": {},
   "outputs": [],
   "source": [
    "from tensorflow import keras\n",
    "from keras import layers\n",
    "from keras.models import Sequential\n",
    "from keras.layers import Dense,Dropout\n",
    "from keras.callbacks import EarlyStopping\n",
    "\n",
    "callback = EarlyStopping(monitor='val_loss', patience=3, restore_best_weights=True)\n",
    "\n",
    "model = Sequential()\n",
    "model.add(Dense(512, input_dim=768, activation='sigmoid'))\n",
    "model.add(Dropout(0.5))\n",
    "model.add(Dense(256, activation='sigmoid')) \n",
    "model.add(Dropout(0.5))\n",
    "model.add(Dense(128, activation='sigmoid')) \n",
    "model.add(Dense(1, activation='softmax'))\n",
    "\n",
    "\n",
    "model.compile(loss='binary_crossentropy', optimizer='adam', metrics=['accuracy'])\n",
    "hist = model.fit(X_train, y_train, epochs=100, validation_data=(X_test, y_test), callbacks=[callback])\n",
    "# X_train.shape"
   ]
  },
  {
   "cell_type": "code",
   "execution_count": null,
   "metadata": {},
   "outputs": [],
   "source": [
    "from fuzzywuzzy import fuzz\n",
    "dictionary = {'intent':[],'combined_text':[],'similarity':[]}\n",
    "for i in range(6):\n",
    "    dictionary['intent'].append(i)\n",
    "    dictionary['combined_text'].append(' '.join(df[df['intent']==i]['text'].values))\n",
    "    dictionary['similarity'].append(np.nan)\n",
    "df_new = pd.DataFrame(dictionary)\n",
    "df_new['intent'].replace(reversed_correspondence,inplace=True)\n",
    "name = input('Enter text: ')\n",
    "df_new['similarity'] = df_new['combined_text'].apply(lambda x: fuzz.partial_ratio(x,name))\n",
    "df_new"
   ]
  },
  {
   "cell_type": "code",
   "execution_count": null,
   "metadata": {},
   "outputs": [],
   "source": [
    "import spacy\n",
    "name = input('Enter text: ')\n",
    "nlp = spacy.load('en_core_web_sm')\n",
    "for i in range(6):\n",
    "    print(df_new.iloc[i]['intent'], \" -> \",nlp(name).similarity(nlp(df_new.iloc[i]['combined_text'])))"
   ]
  },
  {
   "cell_type": "code",
   "execution_count": null,
   "metadata": {},
   "outputs": [],
   "source": [
    "for row in df[df['intent']=='Availability']['text'].values:\n",
    "    print(row)"
   ]
  }
 ],
 "metadata": {
  "kernelspec": {
   "display_name": "Python 3",
   "language": "python",
   "name": "python3"
  },
  "language_info": {
   "codemirror_mode": {
    "name": "ipython",
    "version": 3
   },
   "file_extension": ".py",
   "mimetype": "text/x-python",
   "name": "python",
   "nbconvert_exporter": "python",
   "pygments_lexer": "ipython3",
   "version": "3.9.13"
  }
 },
 "nbformat": 4,
 "nbformat_minor": 2
}
